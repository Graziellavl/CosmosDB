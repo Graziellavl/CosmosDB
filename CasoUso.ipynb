{
 "cells": [
  {
   "attachments": {},
   "cell_type": "markdown",
   "metadata": {},
   "source": [
    "## Caso de Uso: API de Gestión de Eventos y Participantes\n"
   ]
  },
  {
   "attachments": {},
   "cell_type": "markdown",
   "metadata": {},
   "source": [
    "#### Objetivo del Proyecto\n",
    "\n",
    "Desarrollar una API RESTful utilizando FastAPI que permita a los usuarios gestionar eventos y sus participantes. La API deberá soportar operaciones para crear, leer, actualizar y eliminar eventos y participantes almacenados en Azure Cosmos DB. Además, implementará funcionalidades avanzadas como filtrado, ordenamiento, y agregaciones para mejorar la experiencia del usuario.\n",
    "\n",
    "#### Descripción del Proyecto\n",
    "\n",
    "Los estudiantes crearán una aplicación backend que permita a los organizadores de eventos:\n",
    "\n",
    "1. Gestionar Eventos:\n",
    "- Crear nuevos eventos con detalles como nombre, descripción, fecha, ubicación y capacidad.\n",
    "- Actualizar y eliminar eventos existentes.\n",
    "- Listar todos los eventos con opciones de filtrado y ordenamiento.\n",
    "\n",
    "2. Gestionar Participantes:\n",
    "- Inscribir participantes en eventos específicos.\n",
    "- Actualizar y eliminar información de participantes.\n",
    "- Listar todos los participantes de un evento con opciones de filtrado.\n",
    "\n",
    "3. Funciones Adicionales:\n",
    "- Generar reportes simples, como el número de participantes por evento.\n",
    "- Validar la capacidad del evento antes de inscribir nuevos participantes.\n",
    "- Manejar autenticación básica para proteger ciertas operaciones (opcional para niveles avanzados).\n"
   ]
  },
  {
   "attachments": {},
   "cell_type": "markdown",
   "metadata": {},
   "source": [
    "#### Requisitos Funcionales\n",
    "\n",
    "1.- Endpoints para Eventos\n",
    "\n",
    "Crear Evento\n",
    "- Método: POST\n",
    "- URL: /events/\n",
    "- Cuerpo (JSON):\n",
    "``` Json\n",
    "{\n",
    "  \"id\": \"e1\",\n",
    "  \"name\": \"Conferencia Tech 2024\",\n",
    "  \"description\": \"Una conferencia sobre las últimas tendencias en tecnología.\",\n",
    "  \"date\": \"2024-09-15T09:00:00Z\",\n",
    "  \"location\": \"Centro de Convenciones Ciudad\",\n",
    "  \"capacity\": 300\n",
    "}\n",
    "\n",
    "Respuesta: Detalles del evento creado."
   ]
  },
  {
   "attachments": {},
   "cell_type": "markdown",
   "metadata": {},
   "source": [
    "\n",
    "Obtener Evento por ID\n",
    "- Método: GET\n",
    "- URL: /events/{event_id}\n",
    "- Parámetros de Consulta: Ninguno.\n",
    "- Respuesta: Detalles del evento solicitado.\n",
    "\n",
    "Listar Eventos\n",
    "- Método: GET\n",
    "- URL: /events/\n",
    "- Parámetros de Consulta (Opcionales):\n",
    "- date: Filtrar eventos por fecha específica o rango de fechas.\n",
    "- location: Filtrar eventos por ubicación.\n",
    "- sort_by: Ordenar eventos por date o name.\n",
    "- order: asc o desc.\n",
    "- Respuesta: Lista de eventos que cumplen con los filtros."
   ]
  },
  {
   "attachments": {},
   "cell_type": "markdown",
   "metadata": {},
   "source": [
    "Actualizar Evento\n",
    "- Método: PUT\n",
    "- URL: /events/{event_id}\n",
    "- Cuerpo (JSON): Campos a actualizar.\n",
    "\n",
    "``` Json\n",
    "{\n",
    "  \"description\": \"Actualización de la descripción del evento.\",\n",
    "  \"capacity\": 350\n",
    "}\n",
    "\n",
    "Respuesta: Detalles del evento actualizado.\n"
   ]
  },
  {
   "attachments": {},
   "cell_type": "markdown",
   "metadata": {},
   "source": [
    "Eliminar Evento\n",
    "- Método: DELETE\n",
    "- URL: /events/{event_id}\n",
    "- Respuesta: Código de estado 204 No Content si la eliminación es exitosa."
   ]
  },
  {
   "attachments": {},
   "cell_type": "markdown",
   "metadata": {},
   "source": [
    "\n",
    "2.- Endpoints para Participantes\n",
    "\n",
    "Inscribir Participante\n",
    "- Método: POST\n",
    "- URL: /events/{event_id}/participants/\n",
    "- Cuerpo (JSON):\n",
    "\n",
    "``` Json\n",
    "{\n",
    "  \"id\": \"p1\",\n",
    "  \"name\": \"Juan Pérez\",\n",
    "  \"email\": \"juan.perez@example.com\",\n",
    "  \"registration_date\": \"2024-08-01T10:30:00Z\"\n",
    "}\n",
    "\n",
    "Respuesta: Detalles del participante inscrito.\n"
   ]
  },
  {
   "attachments": {},
   "cell_type": "markdown",
   "metadata": {},
   "source": [
    "Obtener Participante por ID\n",
    "- Método: GET\n",
    "- URL: /events/{event_id}/participants/{participant_id}\n",
    "- Respuesta: Detalles del participante solicitado.\n",
    "\n",
    "Listar Participantes de un Evento\n",
    "- Método: GET\n",
    "- URL: /events/{event_id}/participants/\n",
    "- Parámetros de Consulta (Opcionales):\n",
    "- name: Filtrar participantes por nombre.\n",
    "- email: Filtrar participantes por correo electrónico.\n",
    "- sort_by: Ordenar participantes por name o registration_date.\n",
    "- order: asc o desc.\n",
    "- Respuesta: Lista de participantes que cumplen con los filtros."
   ]
  },
  {
   "attachments": {},
   "cell_type": "markdown",
   "metadata": {},
   "source": [
    "Actualizar Participante\n",
    "- Método: PUT\n",
    "- URL: /events/{event_id}/participants/{participant_id}\n",
    "- Cuerpo (JSON): Campos a actualizar.\n",
    "``` Json\n",
    "{\n",
    "  \"email\": \"juan.perez.nuevo@example.com\"\n",
    "}\n",
    "\n",
    "Respuesta: Detalles del participante actualizado.\n"
   ]
  },
  {
   "attachments": {},
   "cell_type": "markdown",
   "metadata": {},
   "source": [
    "Eliminar Participante\n",
    "- Método: DELETE\n",
    "- URL: /events/{event_id}/participants/{participant_id}\n",
    "- Respuesta: Código de estado 204 No Content si la eliminación es exitosa."
   ]
  },
  {
   "attachments": {},
   "cell_type": "markdown",
   "metadata": {},
   "source": [
    "3.- Endpoints para Reportes (Opcional)\n",
    "\n",
    "Obtener Número de Participantes por Evento\n",
    "- Método: GET\n",
    "- URL: /reports/participants-count/\n",
    "- Respuesta: Lista de eventos con el número de participantes inscritos."
   ]
  },
  {
   "attachments": {},
   "cell_type": "markdown",
   "metadata": {},
   "source": [
    "#### Requisitos No Funcionales (Opcional)\n",
    "\n",
    "1.\tEscalabilidad:\n",
    "- La API debe poder manejar un gran número de solicitudes concurrentes y escalar horizontalmente según sea necesario.\n",
    "2.\tSeguridad:\n",
    "- Implementar autenticación y autorización para proteger ciertos endpoints (opcional para niveles avanzados).\n",
    "- Validar y sanitizar todos los datos de entrada para prevenir inyecciones y otros ataques.\n",
    "3.\tRendimiento:\n",
    "- Optimizar consultas a Cosmos DB para minimizar el consumo de Request Units (RUs).\n",
    "- Implementar caché si es necesario para mejorar tiempos de respuesta.\n",
    "4.\tMantenibilidad:\n",
    "- Escribir código limpio y modular.\n",
    "- Documentar la API utilizando Swagger (automáticamente proporcionado por FastAPI)."
   ]
  },
  {
   "attachments": {},
   "cell_type": "markdown",
   "metadata": {},
   "source": [
    "#### Modelado de Datos\n"
   ]
  },
  {
   "attachments": {},
   "cell_type": "markdown",
   "metadata": {},
   "source": [
    "``` Json\n",
    "{\n",
    "    \"id\": \"e1\",\n",
    "    \"name\": \"Conferencia Tech 2024\",\n",
    "    \"description\": \"Una conferencia sobre las últimas tendencias en tecnología.\",\n",
    "    \"date\": \"2024-09-15T09:00:00Z\",\n",
    "    \"location\": \"Centro de Convenciones Ciudad\",\n",
    "    \"capacity\": 300,\n",
    "    \"participants\": [\n",
    "        {\n",
    "            \"id\": \"p1\",\n",
    "            \"name\": \"Juan Pérez\",\n",
    "            \"email\": \"juan.perez@example.com\",\n",
    "            \"registration_date\": \"2024-08-01T10:30:00Z\"\n",
    "        },\n",
    "        {\n",
    "            \"id\": \"p2\",\n",
    "            \"name\": \"María López\",\n",
    "            \"email\": \"maria.lopez@example.com\",\n",
    "            \"registration_date\": \"2024-08-02T11:15:00Z\"\n",
    "        }\n",
    "    ]\n",
    "}\n",
    "\n",
    "Consideraciones:\n",
    "\n",
    "- Denormalización: Los participantes están embebidos dentro del documento del evento para optimizar las lecturas de un evento junto con sus participantes.\n",
    "- Clave de Partición: /id o una clave que garantice una distribución uniforme, como /location si hay una gran variedad de ubicaciones."
   ]
  },
  {
   "attachments": {},
   "cell_type": "markdown",
   "metadata": {},
   "source": []
  },
  {
   "cell_type": "markdown",
   "metadata": {},
   "source": []
  }
 ],
 "metadata": {
  "language_info": {
   "name": "python"
  },
  "orig_nbformat": 4
 },
 "nbformat": 4,
 "nbformat_minor": 2
}
